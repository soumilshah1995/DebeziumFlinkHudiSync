{
 "cells": [
  {
   "cell_type": "code",
   "execution_count": 1,
   "id": "c19ba04a",
   "metadata": {},
   "outputs": [
    {
     "name": "stdout",
     "output_type": "stream",
     "text": [
      " * trino://admin@localhost:8080/default\n",
      "Done.\n",
      " * trino://admin@localhost:8080/default\n",
      "Done.\n",
      " * trino://admin@localhost:8080/default\n",
      "Done.\n"
     ]
    },
    {
     "data": {
      "text/html": [
       "<table>\n",
       "    <thead>\n",
       "        <tr>\n",
       "            <th>Table</th>\n",
       "        </tr>\n",
       "    </thead>\n",
       "    <tbody>\n",
       "        <tr>\n",
       "            <td>processed_orders</td>\n",
       "        </tr>\n",
       "    </tbody>\n",
       "</table>"
      ],
      "text/plain": [
       "[('processed_orders',)]"
      ]
     },
     "execution_count": 1,
     "metadata": {},
     "output_type": "execute_result"
    }
   ],
   "source": [
    "%load_ext sql\n",
    "%sql trino://admin@localhost:8080/default\n",
    "%sql SHOW CATALOGS\n",
    "%sql USE hudi.default\n",
    "%sql show tables"
   ]
  },
  {
   "cell_type": "code",
   "execution_count": 3,
   "id": "487835ac",
   "metadata": {},
   "outputs": [
    {
     "name": "stdout",
     "output_type": "stream",
     "text": [
      " * trino://admin@localhost:8080/default\n",
      "Done.\n"
     ]
    },
    {
     "data": {
      "text/html": [
       "<table>\n",
       "    <thead>\n",
       "        <tr>\n",
       "            <th>_hoodie_commit_time</th>\n",
       "            <th>_hoodie_commit_seqno</th>\n",
       "            <th>_hoodie_record_key</th>\n",
       "            <th>_hoodie_partition_path</th>\n",
       "            <th>_hoodie_file_name</th>\n",
       "            <th>order_number</th>\n",
       "            <th>order_date</th>\n",
       "            <th>customer_id</th>\n",
       "            <th>first_name</th>\n",
       "            <th>last_name</th>\n",
       "            <th>email</th>\n",
       "            <th>quantity</th>\n",
       "            <th>product_id</th>\n",
       "        </tr>\n",
       "    </thead>\n",
       "    <tbody>\n",
       "        <tr>\n",
       "            <td>20240414112338515</td>\n",
       "            <td>20240414112338515_0_0</td>\n",
       "            <td>10002</td>\n",
       "            <td></td>\n",
       "            <td>f98622ba-39c6-4f61-ba73-2b47f81cedfc-0_0-60-44_20240414112538542.parquet</td>\n",
       "            <td>10002</td>\n",
       "            <td>16817</td>\n",
       "            <td>1002</td>\n",
       "            <td>George</td>\n",
       "            <td>Bailey</td>\n",
       "            <td>gbailey@foobar.com</td>\n",
       "            <td>2</td>\n",
       "            <td>105</td>\n",
       "        </tr>\n",
       "        <tr>\n",
       "            <td>20240414112338515</td>\n",
       "            <td>20240414112338515_0_1</td>\n",
       "            <td>10003</td>\n",
       "            <td></td>\n",
       "            <td>f98622ba-39c6-4f61-ba73-2b47f81cedfc-0_0-60-44_20240414112538542.parquet</td>\n",
       "            <td>10003</td>\n",
       "            <td>16850</td>\n",
       "            <td>1002</td>\n",
       "            <td>George</td>\n",
       "            <td>Bailey</td>\n",
       "            <td>gbailey@foobar.com</td>\n",
       "            <td>2</td>\n",
       "            <td>106</td>\n",
       "        </tr>\n",
       "        <tr>\n",
       "            <td>20240414112538542</td>\n",
       "            <td>20240414112538542_0_2</td>\n",
       "            <td>10004</td>\n",
       "            <td></td>\n",
       "            <td>f98622ba-39c6-4f61-ba73-2b47f81cedfc-0_0-60-44_20240414112538542.parquet</td>\n",
       "            <td>10004</td>\n",
       "            <td>16852</td>\n",
       "            <td>1003</td>\n",
       "            <td>Edward brown</td>\n",
       "            <td>Walker</td>\n",
       "            <td>ed@walker.com</td>\n",
       "            <td>1</td>\n",
       "            <td>107</td>\n",
       "        </tr>\n",
       "        <tr>\n",
       "            <td>20240414112338515</td>\n",
       "            <td>20240414112338515_0_3</td>\n",
       "            <td>10001</td>\n",
       "            <td></td>\n",
       "            <td>f98622ba-39c6-4f61-ba73-2b47f81cedfc-0_0-60-44_20240414112538542.parquet</td>\n",
       "            <td>10001</td>\n",
       "            <td>16816</td>\n",
       "            <td>1001</td>\n",
       "            <td>Sally</td>\n",
       "            <td>Thomas</td>\n",
       "            <td>sally.thomas@acme.com</td>\n",
       "            <td>1</td>\n",
       "            <td>102</td>\n",
       "        </tr>\n",
       "    </tbody>\n",
       "</table>"
      ],
      "text/plain": [
       "[('20240414112338515', '20240414112338515_0_0', '10002', '', 'f98622ba-39c6-4f61-ba73-2b47f81cedfc-0_0-60-44_20240414112538542.parquet', '10002', '16817', '1002', 'George', 'Bailey', 'gbailey@foobar.com', '2', '105'),\n",
       " ('20240414112338515', '20240414112338515_0_1', '10003', '', 'f98622ba-39c6-4f61-ba73-2b47f81cedfc-0_0-60-44_20240414112538542.parquet', '10003', '16850', '1002', 'George', 'Bailey', 'gbailey@foobar.com', '2', '106'),\n",
       " ('20240414112538542', '20240414112538542_0_2', '10004', '', 'f98622ba-39c6-4f61-ba73-2b47f81cedfc-0_0-60-44_20240414112538542.parquet', '10004', '16852', '1003', 'Edward brown', 'Walker', 'ed@walker.com', '1', '107'),\n",
       " ('20240414112338515', '20240414112338515_0_3', '10001', '', 'f98622ba-39c6-4f61-ba73-2b47f81cedfc-0_0-60-44_20240414112538542.parquet', '10001', '16816', '1001', 'Sally', 'Thomas', 'sally.thomas@acme.com', '1', '102')]"
      ]
     },
     "execution_count": 3,
     "metadata": {},
     "output_type": "execute_result"
    }
   ],
   "source": [
    "%sql SELECT * from processed_orders"
   ]
  },
  {
   "cell_type": "code",
   "execution_count": null,
   "id": "fb7bc159",
   "metadata": {},
   "outputs": [],
   "source": []
  }
 ],
 "metadata": {
  "kernelspec": {
   "display_name": "Python 3 (ipykernel)",
   "language": "python",
   "name": "python3"
  },
  "language_info": {
   "codemirror_mode": {
    "name": "ipython",
    "version": 3
   },
   "file_extension": ".py",
   "mimetype": "text/x-python",
   "name": "python",
   "nbconvert_exporter": "python",
   "pygments_lexer": "ipython3",
   "version": "3.11.9"
  }
 },
 "nbformat": 4,
 "nbformat_minor": 5
}
